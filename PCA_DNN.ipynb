{
 "cells": [
  {
   "cell_type": "code",
   "execution_count": 8,
   "id": "6a59c39f-1632-4b43-931b-e9490db1fdef",
   "metadata": {},
   "outputs": [
    {
     "name": "stdout",
     "output_type": "stream",
     "text": [
      "SVD completed for conv1, saved to C:\\Users\\quanz\\Documents\\UM\\Projects\\GLX_Project\\DNN\\MiND_Stimili\\conv1_svd_100_components.csv\n"
     ]
    }
   ],
   "source": [
    "import pandas as pd\n",
    "import numpy as np\n",
    "\n",
    "# Path to your activation data file\n",
    "file_path = r'C:\\Users\\quanz\\Documents\\UM\\Projects\\GLX_Project\\DNN\\MiND_Stimili\\conv1_average_activation_matrix.csv'\n",
    "\n",
    "# Load the data\n",
    "data = pd.read_csv(file_path)\n",
    "\n",
    "# Perform SVD\n",
    "U, S, Vt = np.linalg.svd(data, full_matrices=False)\n",
    "\n",
    "# Set the number of components to retain (e.g., 100)\n",
    "n_components = 100\n",
    "\n",
    "# Select the top components\n",
    "U_reduced = U[:, :n_components]\n",
    "S_reduced = np.diag(S[:n_components])\n",
    "Vt_reduced = Vt[:n_components, :]\n",
    "\n",
    "# Form the reduced matrix\n",
    "reduced_data = np.dot(U_reduced, S_reduced)\n",
    "\n",
    "# Save the reduced data\n",
    "output_path = r'C:\\Users\\quanz\\Documents\\UM\\Projects\\GLX_Project\\DNN\\MiND_Stimili\\conv1_svd_100_components.csv'\n",
    "pd.DataFrame(reduced_data).to_csv(output_path, index=False)\n",
    "\n",
    "print(f\"SVD completed for conv1, saved to {output_path}\")\n"
   ]
  },
  {
   "cell_type": "code",
   "execution_count": 9,
   "id": "8476ae7c-f918-415d-ba2b-354805bc0592",
   "metadata": {},
   "outputs": [
    {
     "name": "stdout",
     "output_type": "stream",
     "text": [
      "Explained Variance Ratio for top 100 components: 100.00%\n"
     ]
    }
   ],
   "source": [
    "# Calculate total variance\n",
    "total_variance = np.sum(S**2)\n",
    "\n",
    "# Calculate explained variance for the top 100 components\n",
    "n_components = 100\n",
    "explained_variance = np.sum(S[:n_components]**2)\n",
    "\n",
    "# Calculate the explained variance ratio\n",
    "explained_variance_ratio = explained_variance / total_variance\n",
    "print(f\"Explained Variance Ratio for top {n_components} components: {explained_variance_ratio:.2%}\")"
   ]
  },
  {
   "cell_type": "code",
   "execution_count": 11,
   "id": "326b972f-000c-416b-b721-1744e2b6e580",
   "metadata": {},
   "outputs": [
    {
     "name": "stdout",
     "output_type": "stream",
     "text": [
      "Reconstruction Error (MSE): 3.3874\n",
      "Explained Variance by Clustering: 99.09%\n"
     ]
    }
   ],
   "source": [
    "from sklearn.metrics import mean_squared_error\n",
    "import numpy as np\n",
    "\n",
    "# Assuming 'pca' is the PCA model used earlier\n",
    "# and 'kmeans' is the trained KMeans model\n",
    "# Load original activation matrix\n",
    "layer_file_path = '/home/tpolklabuser/Desktop/Violet/DNN/ML_RR/DNN_Activation/conv1_average_activation_matrix.csv'\n",
    "activation_matrix = np.loadtxt(layer_file_path, delimiter=',', skiprows=1)  # Shape: (710016, 12)\n",
    "\n",
    "# Step 1: Apply the same PCA transformation to the activation matrix\n",
    "activation_matrix_pca = pca.transform(activation_matrix)  # Shape: (710016, 10)\n",
    "\n",
    "# Step 2: Predict the closest centroids for each unit\n",
    "closest_centroids = kmeans.predict(activation_matrix_pca)\n",
    "\n",
    "# Step 3: Reconstruct the activation matrix using the closest centroids\n",
    "reconstructed_matrix_pca = kmeans.cluster_centers_[closest_centroids]  # Shape: (710016, 10)\n",
    "\n",
    "# Step 4: Inverse transform to get back to the original feature space\n",
    "reconstructed_matrix = pca.inverse_transform(reconstructed_matrix_pca)  # Shape: (710016, 12)\n",
    "\n",
    "# Step 5: Calculate the mean squared reconstruction error\n",
    "reconstruction_error = mean_squared_error(activation_matrix, reconstructed_matrix)\n",
    "print(f\"Reconstruction Error (MSE): {reconstruction_error:.4f}\")\n",
    "\n",
    "# Step 6: Calculate explained variance as a measure of clustering performance\n",
    "total_variance = np.var(activation_matrix)\n",
    "explained_variance_ratio = 1 - (reconstruction_error / total_variance)\n",
    "print(f\"Explained Variance by Clustering: {explained_variance_ratio:.2%}\")\n"
   ]
  },
  {
   "cell_type": "code",
   "execution_count": 21,
   "id": "c47616b8-1781-4763-98af-51e337c67d3e",
   "metadata": {},
   "outputs": [
    {
     "name": "stdout",
     "output_type": "stream",
     "text": [
      "Reduced matrix shape: (100, 120)\n",
      "Explained variance ratio: 0.936822917623644\n",
      "Singular values: [639.70775864 415.54301683 280.68413396 261.55004108 225.63190041\n",
      " 221.77132021 211.94301027 202.81815585 193.31881678 184.95515729\n",
      " 161.54693344 159.07386341 153.56667757 149.59928081 144.78217214\n",
      " 143.23719612 142.45635432 137.20499916 135.77698488 133.46527947\n",
      " 132.30438466 131.21599951 130.93386142 130.80486379 128.08702665\n",
      " 127.73684811 126.59723336 125.98531272 125.61731607 124.66285357\n",
      " 124.20969452 122.17164799 121.61226983 120.92377355 119.41504793\n",
      " 118.9362767  117.4963938  116.77153625 116.16024833 115.5462175\n",
      " 115.26695565 114.60400296 114.03742496 113.41441361 112.66539461\n",
      " 112.55885402 111.56717562 111.39128293 110.70917051 110.09958978\n",
      " 109.49979157 108.15661349 108.0228594  107.23456286 106.8004957\n",
      " 106.60307582 105.51408146 104.5399704  104.21378825 103.35841338\n",
      " 102.9507364  102.35874248 101.97880837 101.64694794 101.32570231\n",
      " 100.54071625 100.19832113  99.73090396  98.75061806  98.2042579\n",
      "  97.77386836  96.95224144  96.47732008  96.29424627  96.04794592\n",
      "  95.43784428  94.57825469  94.12109551  93.58097559  92.84756285\n",
      "  92.33729763  91.46892838  91.20842048  90.57712735  90.36521961\n",
      "  88.97792809  88.71567352  88.38747872  87.68052921  87.2021021\n",
      "  86.48988052  86.0342083   85.29622219  85.13680678  84.07503801\n",
      "  83.92393612  83.74004689  82.33241732  82.07284818  81.58761127]\n"
     ]
    }
   ],
   "source": [
    "# This codes using SVD instead of PCA, according to Justine Zhang report, \n",
    "import numpy as np\n",
    "from sklearn.preprocessing import StandardScaler\n",
    "from sklearn.decomposition import TruncatedSVD\n",
    "\n",
    "# Load or create your activation matrix\n",
    "file = r'C:\\Users\\quanz\\Documents\\UM\\Projects\\GLX_Project\\DNN\\MiND_Stimili\\pool5_G_both_combined_matrix.csv'\n",
    "activation_matrix = np.loadtxt(file, delimiter=',', skiprows=1) # Example loading step\n",
    "\n",
    "# transform to .npy for futher use\n",
    "np.save('pool5_G_both_combined_matrix.npy', activation_matrix)\n",
    "\n",
    "# Define the number of components to keep (adjust based on the desired explained variance)\n",
    "n_components = 100  # Choose an appropriate number based on variance explained or experiment needs\n",
    "\n",
    "activation_matrix_centered = activation_matrix - np.mean(activation_matrix, axis=0)\n",
    "\n",
    "scaler = StandardScaler()\n",
    "activation_matrix_standardized = scaler.fit_transform(activation_matrix_centered)\n",
    "\n",
    "# Transpose the matrix to reduce along the units dimension (710061)\n",
    "activation_matrix_T = activation_matrix_standardized.T  # Now shape is [120, 710061]\n",
    "\n",
    "\n",
    "# Perform Truncated SVD\n",
    "svd = TruncatedSVD(n_components=n_components)\n",
    "reduced_matrix = svd.fit_transform(activation_matrix_T)\n",
    "\n",
    "\n",
    "# Transpose back to retain the structure where rows represent units\n",
    "reduced_matrix = reduced_matrix.T  # Final shape will be [n_components, 120]\n",
    "\n",
    "# Print the shape of the reduced matrix to verify dimensions\n",
    "print(\"Reduced matrix shape:\", reduced_matrix.shape)\n",
    "\n",
    "# Print the explained variance ratio to understand how much of the original data is captured in the reduced matrix.\n",
    "print(\"Explained variance ratio:\", svd.explained_variance_ratio_.sum())\n",
    "\n",
    "# Optional: Inspect the singular values, which represent the importance of each reduced dimension.\n",
    "# High singular values correlate with high variance directions, often capturing meaningful structures in the data.\n",
    "singular_values = svd.singular_values_\n",
    "print(\"Singular values:\", singular_values)\n",
    "\n",
    "# Save the reduced matrix for future analysis or model input\n",
    "np.save('reduced_activation_matrix.npy', reduced_matrix)\n",
    "\n",
    "np.save('C:\\\\Users\\\\quanz\\\\Documents\\\\UM\\\\Projects\\\\GLX_Project\\\\DNN\\\\MiND_Stimili\\\\reduced_activation_matrix_pool5_G.npy', reduced_matrix)\n"
   ]
  },
  {
   "cell_type": "code",
   "execution_count": 2,
   "id": "8c736d0c",
   "metadata": {},
   "outputs": [],
   "source": [
    "# This code will average the SVD matrix across time domain, so make the output from the previous chunck [100x120] to [100x6] condition-wise to prepare for risdge regression\n",
    "import numpy as np\n",
    "import glob\n",
    "\n",
    "# Load all .npy files\n",
    "file_paths = glob.glob(r'C:\\Users\\quanz\\Documents\\UM\\Projects\\GLX_Project\\DNN\\MiND_Stimili\\reduced_activation_matrix_*.npy')  # Adjust path as needed\n",
    "activation_matrices = {file.split('\\\\')[-1].split('.')[0]: np.load(file) for file in file_paths}\n",
    "\n",
    "# Function to average every 10 columns\n",
    "def average_columns(matrix, group_size=10):\n",
    "    return matrix.reshape(matrix.shape[0], -1, group_size).mean(axis=2)\n",
    "\n",
    "# Apply column averaging to each matrix\n",
    "reduced_matrices = {}\n",
    "for name, matrix in activation_matrices.items():\n",
    "    reduced_matrix = average_columns(matrix, group_size=10)  # Shape will be (100, 12)\n",
    "    reduced_matrices[name] = reduced_matrix\n",
    "\n",
    "# Optional: Save reduced matrices if you need them for later\n",
    "for name, reduced_matrix in reduced_matrices.items():\n",
    "    np.save(f\"C:\\\\Users\\\\quanz\\\\Documents\\\\UM\\\\Projects\\\\GLX_Project\\\\DNN\\\\MiND_Stimili\\\\reduced_{name}.npy\", reduced_matrix)\n",
    "\n"
   ]
  },
  {
   "cell_type": "code",
   "execution_count": 7,
   "id": "00b3e199",
   "metadata": {},
   "outputs": [
    {
     "name": "stdout",
     "output_type": "stream",
     "text": [
      "           0           1           2           3           4           5   \\\n",
      "0  234.519146  214.037666  212.021145  196.813564  203.274557  219.052269   \n",
      "1  -79.588443  -50.664486  -57.986443  -53.566725  -75.347515  -91.339107   \n",
      "2   71.975492   20.764094  -85.615072  -85.398597  123.544916  -57.154015   \n",
      "3  -35.694409  -22.759353  -41.237129   59.196725   22.203602   37.354179   \n",
      "4   28.269027  -47.030191   15.602853  -43.531488   22.723119   24.666448   \n",
      "\n",
      "           6           7           8           9           10          11  \n",
      "0  165.547886  168.458967  145.318827  162.141799  174.376664  139.745953  \n",
      "1   83.206432   91.822015  119.976641   81.440455   88.609637   89.106267  \n",
      "2   10.016119  -18.522979   28.840883  -17.641578   36.706874  -38.202528  \n",
      "3   -8.485008  -61.650225   89.099234  -15.202253   -1.743136   -4.758449  \n",
      "4  -38.962323   27.328780   37.493719  -22.331469  -62.469288   68.597113  \n",
      "          0           1           2           3           4           5    \\\n",
      "0  229.547345  232.595373  226.581648  235.656572  241.735075  237.209377   \n",
      "1 -100.292242  -63.417059  -78.004053  -94.667430  -78.428555  -80.270075   \n",
      "2   79.472246   60.929049   81.049971   89.209537   63.125220   67.216262   \n",
      "3  -22.330240  -29.247847    6.820983  -27.843409  -37.893539  -34.921671   \n",
      "4   39.877282   17.714997   36.148585   19.960327    8.049484   32.530250   \n",
      "\n",
      "          6           7           8           9    ...         110  \\\n",
      "0  229.469431  233.803457  236.874326  241.718853  ...  129.963473   \n",
      "1  -84.081738  -87.648343  -83.010579  -46.064355  ...   75.248739   \n",
      "2   76.459945   66.564467   82.132488   53.595729  ...  -52.339346   \n",
      "3  -33.715031  -48.807770  -56.662512  -72.343058  ...  -43.707299   \n",
      "4   46.617401   49.545603   36.841109   -4.594771  ...   55.753913   \n",
      "\n",
      "          111         112         113         114         115         116  \\\n",
      "0  142.199696  146.574603  127.903493  132.179168  145.621499  145.058336   \n",
      "1   98.694952   76.403564   89.317496   78.976748   98.214374   97.227975   \n",
      "2  -27.153035  -37.364484  -36.505711  -56.546966  -50.459187  -29.595031   \n",
      "3    0.736813   17.002717  -17.734477  -24.897824    8.222309   -1.127130   \n",
      "4   78.971110   30.069424   82.899512   90.584026   83.351404   93.026480   \n",
      "\n",
      "          117         118         119  \n",
      "0  144.990858  143.816435  139.151964  \n",
      "1  104.350503   86.737568   85.890753  \n",
      "2  -29.983333  -26.847484  -35.230703  \n",
      "3   -3.535795   -6.726429   24.182624  \n",
      "4   72.993103   55.674629   42.647530  \n",
      "\n",
      "[5 rows x 120 columns]\n"
     ]
    }
   ],
   "source": [
    "# check the output of reduced_reduced matrices:\n",
    "import numpy as np\n",
    "import pandas as pd\n",
    "\n",
    "\n",
    "file_path_1 = f\"C:\\\\Users\\\\quanz\\\\Documents\\\\UM\\\\Projects\\\\GLX_Project\\\\DNN\\\\MiND_Stimili\\\\reduced_reduced_activation_matrix_conv1.npy\"\n",
    "data_1 = np.load(file_path_1)\n",
    "\n",
    "\n",
    "file_path_2 = f\"C:\\\\Users\\\\quanz\\\\Documents\\\\UM\\\\Projects\\\\GLX_Project\\\\DNN\\\\MiND_Stimili\\\\reduced_activation_matrix_conv1.npy\"\n",
    "data_2 = np.load(file_path_2)\n",
    "\n",
    "\n",
    "df_1 = pd.DataFrame(data_1)\n",
    "df_2 = pd.DataFrame(data_2)\n",
    "\n",
    "# Display the first few rows\n",
    "print(df_1.head())\n",
    "print(df_2.head())\n"
   ]
  },
  {
   "cell_type": "code",
   "execution_count": 3,
   "id": "1a736444",
   "metadata": {},
   "outputs": [
    {
     "name": "stdout",
     "output_type": "stream",
     "text": [
      "Total variance explained: 0.9562339390935297\n"
     ]
    },
    {
     "data": {
      "image/png": "[encoded data removed]",
      "text/plain": [
       "<Figure size 640x480 with 1 Axes>"
      ]
     },
     "metadata": {},
     "output_type": "display_data"
    }
   ],
   "source": [
    "# To see how much variance it explaines: \n",
    "total_variance_explained = svd.explained_variance_ratio_.sum()\n",
    "print(\"Total variance explained:\", total_variance_explained)\n",
    "\n",
    "import matplotlib.pyplot as plt\n",
    "\n",
    "cumulative_variance = np.cumsum(svd.explained_variance_ratio_)\n",
    "plt.plot(cumulative_variance)\n",
    "plt.xlabel('Number of Components')\n",
    "plt.ylabel('Cumulative Explained Variance')\n",
    "plt.title('Explained Variance by Number of Components')\n",
    "plt.show()"
   ]
  }
 ],
 "metadata": {
  "kernelspec": {
   "display_name": "Python 3",
   "language": "python",
   "name": "python3"
  },
  "language_info": {
   "codemirror_mode": {
    "name": "ipython",
    "version": 3
   },
   "file_extension": ".py",
   "mimetype": "text/x-python",
   "name": "python",
   "nbconvert_exporter": "python",
   "pygments_lexer": "ipython3",
   "version": "3.11.4"
  }
 },
 "nbformat": 4,
 "nbformat_minor": 5
}
