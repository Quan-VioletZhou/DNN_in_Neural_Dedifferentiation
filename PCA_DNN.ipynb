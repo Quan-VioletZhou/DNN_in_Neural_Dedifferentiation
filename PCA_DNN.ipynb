{
 "cells": [
  {
   "cell_type": "code",
   "execution_count": 9,
   "id": "6a59c39f-1632-4b43-931b-e9490db1fdef",
   "metadata": {},
   "outputs": [
    {
     "name": "stdout",
     "output_type": "stream",
     "text": [
      "Reduced activation matrix shape (after PCA): (710016, 10)\n",
      "Final reduced activation matrix shape (after clustering): (1000, 10)\n"
     ]
    }
   ],
   "source": [
    "from sklearn.decomposition import PCA\n",
    "from sklearn.cluster import KMeans\n",
    "import numpy as np\n",
    "\n",
    "# Load the activation matrix for conv1 (shape: 710016, 12)\n",
    "layer_file_path = '/home/tpolklabuser/Desktop/Violet/DNN/ML_RR/DNN_Activation/conv1_average_activation_matrix.csv'\n",
    "activation_matrix = np.loadtxt(layer_file_path, delimiter=',', skiprows=1)  # shape (710016, 12)\n",
    "\n",
    "# Step 1: Apply PCA to reduce the dimensionality of each unit\n",
    "n_pca_components = 10  # Number of PCA components for each unit\n",
    "pca = PCA(n_components=n_pca_components)\n",
    "reduced_activation_matrix = pca.fit_transform(activation_matrix)  # shape (710016, 10)\n",
    "print(f\"Reduced activation matrix shape (after PCA): {reduced_activation_matrix.shape}\")\n",
    "\n",
    "# Step 2: Apply K-Means to reduce the number of units\n",
    "n_clusters = 1000  # Number of clusters (this will be the reduced number of units)\n",
    "kmeans = KMeans(n_clusters=n_clusters, random_state=42)\n",
    "kmeans.fit(reduced_activation_matrix)\n",
    "\n",
    "# Step 3: Use cluster centroids as the reduced representation of units\n",
    "reduced_activation_matrix_final = kmeans.cluster_centers_  # shape (1000, 10)\n",
    "print(f\"Final reduced activation matrix shape (after clustering): {reduced_activation_matrix_final.shape}\")\n",
    "\n",
    "# Save the final reduced activation matrix\n",
    "np.save(f'/home/tpolklabuser/Desktop/Violet/DNN/ML_RR/DNN_Activation/conv1_reduced_activation_matrix_clusters.npy', reduced_activation_matrix_final)\n"
   ]
  },
  {
   "cell_type": "code",
   "execution_count": 3,
   "id": "8476ae7c-f918-415d-ba2b-354805bc0592",
   "metadata": {},
   "outputs": [
    {
     "name": "stdout",
     "output_type": "stream",
     "text": [
      "(710016, 12)\n"
     ]
    }
   ],
   "source": [
    "print(activation_matrix.shape)"
   ]
  },
  {
   "cell_type": "code",
   "execution_count": 11,
   "id": "326b972f-000c-416b-b721-1744e2b6e580",
   "metadata": {},
   "outputs": [
    {
     "name": "stdout",
     "output_type": "stream",
     "text": [
      "Reconstruction Error (MSE): 3.3874\n",
      "Explained Variance by Clustering: 99.09%\n"
     ]
    }
   ],
   "source": [
    "from sklearn.metrics import mean_squared_error\n",
    "import numpy as np\n",
    "\n",
    "# Assuming 'pca' is the PCA model used earlier\n",
    "# and 'kmeans' is the trained KMeans model\n",
    "# Load original activation matrix\n",
    "layer_file_path = '/home/tpolklabuser/Desktop/Violet/DNN/ML_RR/DNN_Activation/conv1_average_activation_matrix.csv'\n",
    "activation_matrix = np.loadtxt(layer_file_path, delimiter=',', skiprows=1)  # Shape: (710016, 12)\n",
    "\n",
    "# Step 1: Apply the same PCA transformation to the activation matrix\n",
    "activation_matrix_pca = pca.transform(activation_matrix)  # Shape: (710016, 10)\n",
    "\n",
    "# Step 2: Predict the closest centroids for each unit\n",
    "closest_centroids = kmeans.predict(activation_matrix_pca)\n",
    "\n",
    "# Step 3: Reconstruct the activation matrix using the closest centroids\n",
    "reconstructed_matrix_pca = kmeans.cluster_centers_[closest_centroids]  # Shape: (710016, 10)\n",
    "\n",
    "# Step 4: Inverse transform to get back to the original feature space\n",
    "reconstructed_matrix = pca.inverse_transform(reconstructed_matrix_pca)  # Shape: (710016, 12)\n",
    "\n",
    "# Step 5: Calculate the mean squared reconstruction error\n",
    "reconstruction_error = mean_squared_error(activation_matrix, reconstructed_matrix)\n",
    "print(f\"Reconstruction Error (MSE): {reconstruction_error:.4f}\")\n",
    "\n",
    "# Step 6: Calculate explained variance as a measure of clustering performance\n",
    "total_variance = np.var(activation_matrix)\n",
    "explained_variance_ratio = 1 - (reconstruction_error / total_variance)\n",
    "print(f\"Explained Variance by Clustering: {explained_variance_ratio:.2%}\")\n"
   ]
  },
  {
   "cell_type": "code",
   "execution_count": null,
   "id": "c47616b8-1781-4763-98af-51e337c67d3e",
   "metadata": {},
   "outputs": [],
   "source": []
  }
 ],
 "metadata": {
  "kernelspec": {
   "display_name": "Python 3 (ipykernel)",
   "language": "python",
   "name": "python3"
  },
  "language_info": {
   "codemirror_mode": {
    "name": "ipython",
    "version": 3
   },
   "file_extension": ".py",
   "mimetype": "text/x-python",
   "name": "python",
   "nbconvert_exporter": "python",
   "pygments_lexer": "ipython3",
   "version": "3.11.8"
  }
 },
 "nbformat": 4,
 "nbformat_minor": 5
}
